{
 "cells": [
  {
   "cell_type": "code",
   "execution_count": 21,
   "metadata": {},
   "outputs": [
    {
     "name": "stdout",
     "output_type": "stream",
     "text": [
      "a.txt\n",
      "a.txt\n",
      "c.jpg\n",
      "a.txt\n",
      "b.txt\n",
      "b.txt\n",
      "c.jpg\n",
      "haha.png\n",
      "{'a.txt': 3, 'c.jpg': 2, 'b.txt': 2, 'haha.png': 1}\n",
      "a.txt    3\n",
      "b.txt    2\n",
      "c.jpg    2\n",
      "dtype: int64\n"
     ]
    }
   ],
   "source": [
    "import pandas as pd\n",
    "urls = [\n",
    "    \"http://www.google.com/a.txt\",\n",
    "    \"http://www.google.com.tw/a.txt\",\n",
    "    \"http://www.google.com/download/c.jpg\",\n",
    "    \"http://www.google.co.jp/a.txt\",\n",
    "    \"http://www.google.com/b.txt\",\n",
    "    \"https://facebook.com/movie/b.txt\",\n",
    "    \"http://yahoo.com/123/000/c.jpg\",\n",
    "    \"http://gliacloud.com/haha.png\",\n",
    "]\n",
    "\n",
    "Dict_ = {}\n",
    "\n",
    "for i in urls:\n",
    "    element = i.split(\"/\")[-1]\n",
    "    print(element)\n",
    "    if not element in Dict_:\n",
    "        Dict_[element] = 1\n",
    "\n",
    "    elif element in Dict_:\n",
    "        Dict_[element] += 1\n",
    "print(Dict_)\n",
    "del Dict_['haha.png']\n",
    "\n",
    "select = pd.Series(Dict_, index = Dict_.keys())\n",
    "print(select[[0,2,1]])  \n"
   ]
  },
  {
   "cell_type": "code",
   "execution_count": 45,
   "metadata": {},
   "outputs": [
    {
     "ename": "TypeError",
     "evalue": "can only concatenate str (not \"int\") to str",
     "output_type": "error",
     "traceback": [
      "\u001b[1;31m---------------------------------------------------------------------------\u001b[0m",
      "\u001b[1;31mTypeError\u001b[0m                                 Traceback (most recent call last)",
      "\u001b[1;32m<ipython-input-45-4c2c934c58c5>\u001b[0m in \u001b[0;36m<module>\u001b[1;34m\u001b[0m\n\u001b[0;32m     18\u001b[0m \u001b[0mi\u001b[0m\u001b[1;33m=\u001b[0m\u001b[1;36m0\u001b[0m\u001b[1;33m\u001b[0m\u001b[0m\n\u001b[0;32m     19\u001b[0m \u001b[1;32mfor\u001b[0m \u001b[0mi\u001b[0m \u001b[1;32min\u001b[0m \u001b[0murls\u001b[0m\u001b[1;33m:\u001b[0m\u001b[1;33m\u001b[0m\u001b[0m\n\u001b[1;32m---> 20\u001b[1;33m     \u001b[0mi\u001b[0m\u001b[1;33m=\u001b[0m\u001b[0mi\u001b[0m\u001b[1;33m+\u001b[0m\u001b[1;36m1\u001b[0m\u001b[1;33m\u001b[0m\u001b[0m\n\u001b[0m\u001b[0;32m     21\u001b[0m     \u001b[0mfilename\u001b[0m \u001b[1;33m=\u001b[0m \u001b[0mos\u001b[0m\u001b[1;33m.\u001b[0m\u001b[0mpath\u001b[0m\u001b[1;33m.\u001b[0m\u001b[0mbasename\u001b[0m\u001b[1;33m(\u001b[0m\u001b[0murls\u001b[0m\u001b[1;33m[\u001b[0m\u001b[0mi\u001b[0m\u001b[1;33m]\u001b[0m\u001b[1;33m)\u001b[0m\u001b[1;33m\u001b[0m\u001b[0m\n\u001b[0;32m     22\u001b[0m \u001b[1;33m\u001b[0m\u001b[0m\n",
      "\u001b[1;31mTypeError\u001b[0m: can only concatenate str (not \"int\") to str"
     ]
    }
   ],
   "source": [
    "import os\n",
    "\n",
    "urls = [\n",
    "    \"http://www.google.com/a.txt\",\n",
    "    \"http://www.google.com.tw/a.txt\",\n",
    "    \"http://www.google.com/download/c.jpg\",\n",
    "    \"http://www.google.co.jp/a.txt\",\n",
    "    \"http://www.google.com/b.txt\",\n",
    "    \"https://facebook.com/movie/b.txt\",\n",
    "    \"http://yahoo.com/123/000/c.jpg\",\n",
    "    \"http://gliacloud.com/haha.png\",\n",
    "]\n",
    "\n",
    "\n",
    "# print(str(urls[0]))\n",
    "# filename = os.path.basename(urls[0])\n",
    "# print(filename)\n",
    "i=0\n",
    "for i in urls:\n",
    "    i=i+1\n",
    "    filename = os.path.basename(urls[i])\n",
    "    "
   ]
  },
  {
   "cell_type": "code",
   "execution_count": 29,
   "metadata": {},
   "outputs": [
    {
     "ename": "IndentationError",
     "evalue": "unexpected indent (<ipython-input-29-e2da61631865>, line 12)",
     "output_type": "error",
     "traceback": [
      "\u001b[1;36m  File \u001b[1;32m\"<ipython-input-29-e2da61631865>\"\u001b[1;36m, line \u001b[1;32m12\u001b[0m\n\u001b[1;33m    return area\u001b[0m\n\u001b[1;37m    ^\u001b[0m\n\u001b[1;31mIndentationError\u001b[0m\u001b[1;31m:\u001b[0m unexpected indent\n"
     ]
    }
   ],
   "source": [
    "def anonymous(x):\n",
    "    return x**2 + 1\n",
    "def integrate(fun, start, end):\n",
    "    step = 0.1\n",
    "    intercept = start\n",
    "    area = 0\n",
    "    while intercept < end:\n",
    "        intercept += step\n",
    "''' your work here '''\n",
    "\n",
    "\n",
    "    return area\n",
    "print(integrate(anonymous, 0, 10))"
   ]
  },
  {
   "cell_type": "code",
   "execution_count": 10,
   "metadata": {},
   "outputs": [
    {
     "name": "stdout",
     "output_type": "stream",
     "text": [
      "the sum of all the multiples of 3 or 5 below 1000 :  233168\n"
     ]
    }
   ],
   "source": [
    "#寶哥\n",
    "import numpy as np\n",
    "\n",
    "goal = 1000\n",
    "n3 = []\n",
    "n5 = []\n",
    "n3_and_n5 = []\n",
    "\n",
    "for i in range(1, goal):\n",
    "    if i % 3 == 0 and i % 5 != 0:\n",
    "        n3.append(i)\n",
    "    elif i % 5 == 0 and i % 3 != 0:\n",
    "        n5.append(i)\n",
    "    elif i % 3 == 0 and i % 5 == 0:\n",
    "        n3_and_n5.append(i)\n",
    "\n",
    "N3 = np.array(n3)\n",
    "N5 = np.array(n5)\n",
    "N3_5 = np.array(n3_and_n5)\n",
    "\n",
    "print(\"the sum of all the multiples of 3 or 5 below 1000 : \", np.sum(N3) + np.sum(N5) + np.sum(N3_5))\n"
   ]
  },
  {
   "cell_type": "code",
   "execution_count": 24,
   "metadata": {},
   "outputs": [
    {
     "name": "stdout",
     "output_type": "stream",
     "text": [
      "the sum of all the multiples of 3 or 5 below 1000 : 233168\n"
     ]
    }
   ],
   "source": [
    "#Han實作\n",
    "import numpy as np\n",
    "\n",
    "n3 = [] #三的倍數\n",
    "n5 = [] #五的倍數\n",
    "n3_n5 = [] #三跟五的倍數\n",
    "\n",
    "for i in range(1,1000):\n",
    "    if i % 3 == 0 and i % 5 != 0:\n",
    "        n3.append(i)\n",
    "    elif i % 5 == 0 and i%3 != 0:\n",
    "        n5.append(i)\n",
    "    elif i % 5 ==0 and i%3 == 0:\n",
    "        n3_n5.append(i)\n",
    "n3_sum = np.sum(n3)\n",
    "n5_sum = np.sum(n5)\n",
    "n3_n5_sum = np.sum(n3_n5)\n",
    "print(\"the sum of all the multiples of 3 or 5 below 1000 :\", n3_sum + n5_sum + n3_n5_sum)"
   ]
  },
  {
   "cell_type": "code",
   "execution_count": 72,
   "metadata": {},
   "outputs": [
    {
     "ename": "ModuleNotFoundError",
     "evalue": "No module named 'flask'",
     "output_type": "error",
     "traceback": [
      "\u001b[1;31m---------------------------------------------------------------------------\u001b[0m",
      "\u001b[1;31mModuleNotFoundError\u001b[0m                       Traceback (most recent call last)",
      "\u001b[1;32m<ipython-input-72-198cf9c2ac7d>\u001b[0m in \u001b[0;36m<module>\u001b[1;34m\u001b[0m\n\u001b[1;32m----> 1\u001b[1;33m \u001b[1;32mfrom\u001b[0m \u001b[0mflask\u001b[0m \u001b[1;32mimport\u001b[0m \u001b[0mFlask\u001b[0m\u001b[1;33m\u001b[0m\u001b[0m\n\u001b[0m\u001b[0;32m      2\u001b[0m \u001b[1;32mimport\u001b[0m \u001b[0mrandom\u001b[0m\u001b[1;33m\u001b[0m\u001b[0m\n\u001b[0;32m      3\u001b[0m \u001b[1;33m\u001b[0m\u001b[0m\n\u001b[0;32m      4\u001b[0m \u001b[1;33m\u001b[0m\u001b[0m\n\u001b[0;32m      5\u001b[0m \u001b[0mapp\u001b[0m \u001b[1;33m=\u001b[0m \u001b[0mFlask\u001b[0m\u001b[1;33m(\u001b[0m\u001b[0m__name__\u001b[0m\u001b[1;33m)\u001b[0m\u001b[1;33m\u001b[0m\u001b[0m\n",
      "\u001b[1;31mModuleNotFoundError\u001b[0m: No module named 'flask'"
     ]
    }
   ],
   "source": [
    "from flask import Flask\n",
    "import random\n",
    "\n",
    "\n",
    "app = Flask(__name__)\n",
    "\n",
    "@app.route(\"/\")\n",
    "def Print_str():\n",
    "    sentence = [\n",
    "        \"Beautiful is better than ugly.\",\n",
    "        \"Explicit is better than implicit.\",\n",
    "        \"Simple is better than complex.\",\n",
    "        \"Complex is better than complicated.\",\n",
    "        \"Flat is better than nested.\",\n",
    "        \"Sparse is better than dense.\",\n",
    "        \"Readability counts.\",\n",
    "        \"Special cases aren't special enough to break the rules.\",\n",
    "        \"Although practicality beats purity.\",\n",
    "        \"Errors should never pass silently.\",\n",
    "        \"Unless explicitly silenced.\",\n",
    "        \"In the face of ambiguity, refuse the temptation to guess.\",\n",
    "        \"There should be one-- and preferably only one --obvious way to do it.\",\n",
    "        \"Although that way may not be obvious at first unless you're Dutch.\",\n",
    "        \"Now is better than never.\",\n",
    "        \"Although never is often better than *right* now.\",\n",
    "        \"If the implementation is hard to explain, it's a bad idea.\",\n",
    "        \"If the implementation is easy to explain, it may be a good idea.\",\n",
    "        \"Namespaces are one honking great idea -- let's do more of those!\"\n",
    "    ]\n",
    "    idx = random.randint(0, len(sentence)-1)\n",
    "    return sentence[idx]\n",
    "\n",
    "if __name__ == \"__main__\":\n",
    "    app.run(debug=True, port=5000)"
   ]
  },
  {
   "cell_type": "code",
   "execution_count": null,
   "metadata": {},
   "outputs": [],
   "source": []
  }
 ],
 "metadata": {
  "kernelspec": {
   "display_name": "Python 3",
   "language": "python",
   "name": "python3"
  },
  "language_info": {
   "codemirror_mode": {
    "name": "ipython",
    "version": 3
   },
   "file_extension": ".py",
   "mimetype": "text/x-python",
   "name": "python",
   "nbconvert_exporter": "python",
   "pygments_lexer": "ipython3",
   "version": "3.7.0"
  }
 },
 "nbformat": 4,
 "nbformat_minor": 1
}
